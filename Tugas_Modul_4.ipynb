{
  "cells": [
    {
      "cell_type": "markdown",
      "metadata": {
        "id": "view-in-github",
        "colab_type": "text"
      },
      "source": [
        "<a href=\"https://colab.research.google.com/github/annsftrmdhn/annsftrmdhn/blob/master/Tugas_Modul_4.ipynb\" target=\"_parent\"><img src=\"https://colab.research.google.com/assets/colab-badge.svg\" alt=\"Open In Colab\"/></a>"
      ]
    },
    {
      "cell_type": "markdown",
      "metadata": {
        "id": "qN1nVCZNYarG"
      },
      "source": [
        "<div align=\"center\">\n",
        "\n",
        "# 🌟 **INTEGRATED TASK #2 - MODULE 4 GWE G6** 🌟  \n",
        "\n",
        "</div>\n",
        "\n",
        "<br>\n",
        "\n",
        "<p align=\"center\">\n",
        "  <img src=\"https://neurologicalsurgery.in/wp-content/uploads/2024/01/composition-depression-mental-disorder.jpg\" alt=\"Depression Mental Disorder\" width=700>\n",
        "</p>\n",
        "\n",
        "<br>\n",
        "\n",
        "## 📝 **Dataset Title: Exploring Mental Health Data** 📝\n",
        "\n",
        "Dataset ini berisi informasi mengenai faktor-faktor yang berpotensi mempengaruhi kesejahteraan mental individu, khususnya terkait dengan tekanan akademik, tekanan kerja, dan kondisi psikologis. Data mencakup berbagai atribut yang dapat digunakan untuk menganalisis hubungan antara faktor lingkungan, kebiasaan hidup, dan kesehatan mental.  \n",
        "\n",
        "---\n",
        "\n",
        "## 📊 **Deskripsi Kolom** 📊\n",
        "\n",
        "<div align=\"center\">\n",
        "\n",
        "<style>\n",
        "  table {\n",
        "    width: 80%;\n",
        "    border-collapse: collapse;\n",
        "    border: 2px solid #FF9800;\n",
        "    text-align: center;\n",
        "  }\n",
        "  th {\n",
        "    background-color: #FF9800;\n",
        "    color: white;\n",
        "    padding: 12px;\n",
        "  }\n",
        "  td {\n",
        "    padding: 10px;\n",
        "    border: 1px solid #ddd;\n",
        "    background-color: white;\n",
        "    color: black;\n",
        "  }\n",
        "  tr:nth-child(even) {\n",
        "    background-color: #f9f9f9;\n",
        "  }\n",
        "</style>\n",
        "\n",
        "<table>\n",
        "  <tr>\n",
        "    <th>Kolom</th>\n",
        "    <th>Deskripsi</th>\n",
        "  </tr>\n",
        "  <tr><td><b>id</b></td><td>Identifikasi unik untuk setiap individu dalam dataset.</td></tr>\n",
        "  <tr><td><b>Name</b></td><td>Nama individu (bisa dianonimkan untuk menjaga privasi).</td></tr>\n",
        "  <tr><td><b>Gender</b></td><td>Jenis kelamin individu.</td></tr>\n",
        "  <tr><td><b>Age</b></td><td>Usia individu dalam tahun.</td></tr>\n",
        "  <tr><td><b>City</b></td><td>Kota tempat individu tinggal.</td></tr>\n",
        "  <tr><td><b>Working Professional or Student</b></td><td>Status individu, apakah seorang mahasiswa atau pekerja profesional.</td></tr>\n",
        "  <tr><td><b>Profession</b></td><td>Jenis profesi bagi individu yang bekerja.</td></tr>\n",
        "  <tr><td><b>Academic Pressure</b></td><td>Tingkat tekanan akademik yang dialami oleh mahasiswa.</td></tr>\n",
        "  <tr><td><b>Work Pressure</b></td><td>Tingkat tekanan kerja yang dialami oleh pekerja profesional.</td></tr>\n",
        "  <tr><td><b>CGPA</b></td><td>Indeks Prestasi Kumulatif (**Cumulative Grade Point Average**) sebagai indikator akademik bagi mahasiswa.</td></tr>\n",
        "  <tr><td><b>Study Satisfaction</b></td><td>Tingkat kepuasan individu terhadap studi mereka.</td></tr>\n",
        "  <tr><td><b>Job Satisfaction</b></td><td>Tingkat kepuasan individu terhadap pekerjaannya.</td></tr>\n",
        "  <tr><td><b>Sleep Duration</b></td><td>Rata-rata durasi tidur individu per hari (dalam jam).</td></tr>\n",
        "  <tr><td><b>Dietary Habits</b></td><td>Kebiasaan pola makan individu.</td></tr>\n",
        "  <tr><td><b>Degree</b></td><td>Jenis gelar pendidikan yang sedang atau telah ditempuh oleh individu.</td></tr>\n",
        "  <tr><td><b>Have you ever had suicidal thoughts?</b></td><td>Indikator apakah individu pernah mengalami pikiran untuk bunuh diri.</td></tr>\n",
        "  <tr><td><b>Work/Study Hours</b></td><td>Jumlah jam kerja atau jam belajar individu per hari.</td></tr>\n",
        "  <tr><td><b>Financial Stress</b></td><td>Tingkat stres yang dialami individu akibat masalah keuangan.</td></tr>\n",
        "  <tr><td><b>Family History of Mental Illness</b></td><td>Indikator apakah individu memiliki riwayat keluarga dengan gangguan mental.</td></tr>\n",
        "  <tr><td><b>Depression</b></td><td>Indikator apakah individu mengalami depresi atau tidak.</td></tr>\n",
        "</table>\n",
        "\n",
        "</div>\n",
        "\n",
        "<br>\n",
        "\n",
        "# **Instruksi Pengerjaan Tugas Preprocessing Data**  \n",
        "\n",
        "## **📌 Petunjuk Umum**\n",
        "- Tugas ini bertujuan untuk melakukan **preprocessing data** sebelum dianalisis lebih lanjut.  \n",
        "- Gunakan **Python** dengan pustaka seperti `pandas`, `numpy`, `seaborn`, `matplotlib`, dan `scikit-learn`.  \n",
        "- Setiap **jawaban harus disertai dengan penjelasan** yang jelas, tidak hanya sekadar kode.  \n",
        "- Jika memungkinkan, gunakan **visualisasi** untuk mendukung analisis.  \n",
        "\n",
        "## **🛠 Langkah-langkah Pengerjaan**\n",
        "1. **Persiapan Dataset**  \n",
        "   - Pastikan dataset sudah tersedia dalam format yang sesuai (`CSV`, `Excel`, atau format lainnya).  \n",
        "   - Load dataset menggunakan `pandas`.  \n",
        "   - Lihat beberapa baris pertama untuk memahami strukturnya.  \n",
        "\n",
        "2. **Menjawab Pertanyaan**  \n",
        "   - Kerjakan **semua soal** dari nomor **1 sampai 10** secara sistematis.  \n",
        "   - Gunakan **Markdown** untuk menjelaskan setiap langkah yang dilakukan.\n",
        "\n",
        "3. **Dokumentasi dan Interpretasi**  \n",
        "   - Setiap langkah preprocessing harus **dijelaskan dengan detail**.  \n",
        "   - **Jangan hanya menampilkan kode dan output**, tetapi berikan analisis terhadap hasilnya.  \n",
        "\n",
        "4. **Menyimpan Hasil**  \n",
        "   - Setelah seluruh preprocessing selesai, simpan dataset yang sudah bersih dalam format **CSV**.  \n",
        "\n",
        "5. **Kesimpulan Akhir**  \n",
        "   - Buat ringkasan **apa saja langkah preprocessing yang telah dilakukan**.  \n",
        "   - Jelaskan **dampak preprocessing terhadap kualitas data**.  \n",
        "   - Sebutkan **tantangan yang ditemukan selama proses ini dan bagaimana mengatasinya**.  \n",
        "\n",
        "---\n",
        "<div align=\"center\">\n",
        "\n",
        "<br>\n",
        "\n",
        "> 💡 **Good Luck Guys! Kalau ada yang dibingungin tanya-tanya aja ke mentornya :)** 🚀  \n",
        "\n",
        "</div>"
      ]
    },
    {
      "cell_type": "markdown",
      "metadata": {
        "id": "eF9zLC8qYarK"
      },
      "source": [
        "> ### 🔍**0. Import Libraries**  "
      ]
    },
    {
      "cell_type": "code",
      "execution_count": null,
      "metadata": {
        "id": "q75ZiVMaYarK"
      },
      "outputs": [],
      "source": [
        "import pandas as pd\n",
        "import matplotlib.pyplot as plt\n",
        "import numpy as np\n",
        "import seaborn as sns\n",
        "from sklearn.model_selection import train_test_split"
      ]
    },
    {
      "cell_type": "markdown",
      "metadata": {
        "id": "O56jiL8cYarL"
      },
      "source": [
        "> ### 🔍**1. Load Dataset**  \n",
        "\n",
        "Sebelum melakukan preprocessing, langkah pertama adalah **memuat dataset** ke dalam notebook. Pastikan dataset berhasil dimuat dengan benar dan dapat ditampilkan sebelum melanjutkan ke tahap berikutnya.  "
      ]
    },
    {
      "cell_type": "code",
      "execution_count": null,
      "metadata": {
        "colab": {
          "background_save": true,
          "base_uri": "https://localhost:8080/",
          "height": 38
        },
        "id": "koWl0z4XYarL",
        "outputId": "224403eb-8651-416d-b7c5-f94e92f5d6e4"
      },
      "outputs": [
        {
          "data": {
            "text/html": [
              "\n",
              "     <input type=\"file\" id=\"files-e97446bb-efa4-426b-bd52-4403e1b252af\" name=\"files[]\" multiple disabled\n",
              "        style=\"border:none\" />\n",
              "     <output id=\"result-e97446bb-efa4-426b-bd52-4403e1b252af\">\n",
              "      Upload widget is only available when the cell has been executed in the\n",
              "      current browser session. Please rerun this cell to enable.\n",
              "      </output>\n",
              "      <script>// Copyright 2017 Google LLC\n",
              "//\n",
              "// Licensed under the Apache License, Version 2.0 (the \"License\");\n",
              "// you may not use this file except in compliance with the License.\n",
              "// You may obtain a copy of the License at\n",
              "//\n",
              "//      http://www.apache.org/licenses/LICENSE-2.0\n",
              "//\n",
              "// Unless required by applicable law or agreed to in writing, software\n",
              "// distributed under the License is distributed on an \"AS IS\" BASIS,\n",
              "// WITHOUT WARRANTIES OR CONDITIONS OF ANY KIND, either express or implied.\n",
              "// See the License for the specific language governing permissions and\n",
              "// limitations under the License.\n",
              "\n",
              "/**\n",
              " * @fileoverview Helpers for google.colab Python module.\n",
              " */\n",
              "(function(scope) {\n",
              "function span(text, styleAttributes = {}) {\n",
              "  const element = document.createElement('span');\n",
              "  element.textContent = text;\n",
              "  for (const key of Object.keys(styleAttributes)) {\n",
              "    element.style[key] = styleAttributes[key];\n",
              "  }\n",
              "  return element;\n",
              "}\n",
              "\n",
              "// Max number of bytes which will be uploaded at a time.\n",
              "const MAX_PAYLOAD_SIZE = 100 * 1024;\n",
              "\n",
              "function _uploadFiles(inputId, outputId) {\n",
              "  const steps = uploadFilesStep(inputId, outputId);\n",
              "  const outputElement = document.getElementById(outputId);\n",
              "  // Cache steps on the outputElement to make it available for the next call\n",
              "  // to uploadFilesContinue from Python.\n",
              "  outputElement.steps = steps;\n",
              "\n",
              "  return _uploadFilesContinue(outputId);\n",
              "}\n",
              "\n",
              "// This is roughly an async generator (not supported in the browser yet),\n",
              "// where there are multiple asynchronous steps and the Python side is going\n",
              "// to poll for completion of each step.\n",
              "// This uses a Promise to block the python side on completion of each step,\n",
              "// then passes the result of the previous step as the input to the next step.\n",
              "function _uploadFilesContinue(outputId) {\n",
              "  const outputElement = document.getElementById(outputId);\n",
              "  const steps = outputElement.steps;\n",
              "\n",
              "  const next = steps.next(outputElement.lastPromiseValue);\n",
              "  return Promise.resolve(next.value.promise).then((value) => {\n",
              "    // Cache the last promise value to make it available to the next\n",
              "    // step of the generator.\n",
              "    outputElement.lastPromiseValue = value;\n",
              "    return next.value.response;\n",
              "  });\n",
              "}\n",
              "\n",
              "/**\n",
              " * Generator function which is called between each async step of the upload\n",
              " * process.\n",
              " * @param {string} inputId Element ID of the input file picker element.\n",
              " * @param {string} outputId Element ID of the output display.\n",
              " * @return {!Iterable<!Object>} Iterable of next steps.\n",
              " */\n",
              "function* uploadFilesStep(inputId, outputId) {\n",
              "  const inputElement = document.getElementById(inputId);\n",
              "  inputElement.disabled = false;\n",
              "\n",
              "  const outputElement = document.getElementById(outputId);\n",
              "  outputElement.innerHTML = '';\n",
              "\n",
              "  const pickedPromise = new Promise((resolve) => {\n",
              "    inputElement.addEventListener('change', (e) => {\n",
              "      resolve(e.target.files);\n",
              "    });\n",
              "  });\n",
              "\n",
              "  const cancel = document.createElement('button');\n",
              "  inputElement.parentElement.appendChild(cancel);\n",
              "  cancel.textContent = 'Cancel upload';\n",
              "  const cancelPromise = new Promise((resolve) => {\n",
              "    cancel.onclick = () => {\n",
              "      resolve(null);\n",
              "    };\n",
              "  });\n",
              "\n",
              "  // Wait for the user to pick the files.\n",
              "  const files = yield {\n",
              "    promise: Promise.race([pickedPromise, cancelPromise]),\n",
              "    response: {\n",
              "      action: 'starting',\n",
              "    }\n",
              "  };\n",
              "\n",
              "  cancel.remove();\n",
              "\n",
              "  // Disable the input element since further picks are not allowed.\n",
              "  inputElement.disabled = true;\n",
              "\n",
              "  if (!files) {\n",
              "    return {\n",
              "      response: {\n",
              "        action: 'complete',\n",
              "      }\n",
              "    };\n",
              "  }\n",
              "\n",
              "  for (const file of files) {\n",
              "    const li = document.createElement('li');\n",
              "    li.append(span(file.name, {fontWeight: 'bold'}));\n",
              "    li.append(span(\n",
              "        `(${file.type || 'n/a'}) - ${file.size} bytes, ` +\n",
              "        `last modified: ${\n",
              "            file.lastModifiedDate ? file.lastModifiedDate.toLocaleDateString() :\n",
              "                                    'n/a'} - `));\n",
              "    const percent = span('0% done');\n",
              "    li.appendChild(percent);\n",
              "\n",
              "    outputElement.appendChild(li);\n",
              "\n",
              "    const fileDataPromise = new Promise((resolve) => {\n",
              "      const reader = new FileReader();\n",
              "      reader.onload = (e) => {\n",
              "        resolve(e.target.result);\n",
              "      };\n",
              "      reader.readAsArrayBuffer(file);\n",
              "    });\n",
              "    // Wait for the data to be ready.\n",
              "    let fileData = yield {\n",
              "      promise: fileDataPromise,\n",
              "      response: {\n",
              "        action: 'continue',\n",
              "      }\n",
              "    };\n",
              "\n",
              "    // Use a chunked sending to avoid message size limits. See b/62115660.\n",
              "    let position = 0;\n",
              "    do {\n",
              "      const length = Math.min(fileData.byteLength - position, MAX_PAYLOAD_SIZE);\n",
              "      const chunk = new Uint8Array(fileData, position, length);\n",
              "      position += length;\n",
              "\n",
              "      const base64 = btoa(String.fromCharCode.apply(null, chunk));\n",
              "      yield {\n",
              "        response: {\n",
              "          action: 'append',\n",
              "          file: file.name,\n",
              "          data: base64,\n",
              "        },\n",
              "      };\n",
              "\n",
              "      let percentDone = fileData.byteLength === 0 ?\n",
              "          100 :\n",
              "          Math.round((position / fileData.byteLength) * 100);\n",
              "      percent.textContent = `${percentDone}% done`;\n",
              "\n",
              "    } while (position < fileData.byteLength);\n",
              "  }\n",
              "\n",
              "  // All done.\n",
              "  yield {\n",
              "    response: {\n",
              "      action: 'complete',\n",
              "    }\n",
              "  };\n",
              "}\n",
              "\n",
              "scope.google = scope.google || {};\n",
              "scope.google.colab = scope.google.colab || {};\n",
              "scope.google.colab._files = {\n",
              "  _uploadFiles,\n",
              "  _uploadFilesContinue,\n",
              "};\n",
              "})(self);\n",
              "</script> "
            ],
            "text/plain": [
              "<IPython.core.display.HTML object>"
            ]
          },
          "metadata": {},
          "output_type": "display_data"
        },
        {
          "ename": "TypeError",
          "evalue": "'NoneType' object is not subscriptable",
          "output_type": "error",
          "traceback": [
            "\u001b[0;31m---------------------------------------------------------------------------\u001b[0m",
            "\u001b[0;31mTypeError\u001b[0m                                 Traceback (most recent call last)",
            "\u001b[0;32m<ipython-input-2-5993f0d65c9d>\u001b[0m in \u001b[0;36m<cell line: 0>\u001b[0;34m()\u001b[0m\n\u001b[1;32m      1\u001b[0m \u001b[0;31m### Answer Question 1 Here\u001b[0m\u001b[0;34m\u001b[0m\u001b[0;34m\u001b[0m\u001b[0m\n\u001b[1;32m      2\u001b[0m \u001b[0;32mfrom\u001b[0m \u001b[0mgoogle\u001b[0m\u001b[0;34m.\u001b[0m\u001b[0mcolab\u001b[0m \u001b[0;32mimport\u001b[0m \u001b[0mfiles\u001b[0m\u001b[0;34m\u001b[0m\u001b[0;34m\u001b[0m\u001b[0m\n\u001b[0;32m----> 3\u001b[0;31m \u001b[0muploaded\u001b[0m \u001b[0;34m=\u001b[0m \u001b[0mfiles\u001b[0m\u001b[0;34m.\u001b[0m\u001b[0mupload\u001b[0m\u001b[0;34m(\u001b[0m\u001b[0;34m)\u001b[0m\u001b[0;34m\u001b[0m\u001b[0;34m\u001b[0m\u001b[0m\n\u001b[0m\u001b[1;32m      4\u001b[0m \u001b[0;34m\u001b[0m\u001b[0m\n\u001b[1;32m      5\u001b[0m \u001b[0mdf\u001b[0m \u001b[0;34m=\u001b[0m \u001b[0mpd\u001b[0m\u001b[0;34m.\u001b[0m\u001b[0mread_csv\u001b[0m\u001b[0;34m(\u001b[0m\u001b[0;34m'dataset.csv'\u001b[0m\u001b[0;34m)\u001b[0m\u001b[0;34m\u001b[0m\u001b[0;34m\u001b[0m\u001b[0m\n",
            "\u001b[0;32m/usr/local/lib/python3.11/dist-packages/google/colab/files.py\u001b[0m in \u001b[0;36mupload\u001b[0;34m(target_dir)\u001b[0m\n\u001b[1;32m     70\u001b[0m   \"\"\"\n\u001b[1;32m     71\u001b[0m \u001b[0;34m\u001b[0m\u001b[0m\n\u001b[0;32m---> 72\u001b[0;31m   \u001b[0muploaded_files\u001b[0m \u001b[0;34m=\u001b[0m \u001b[0m_upload_files\u001b[0m\u001b[0;34m(\u001b[0m\u001b[0mmultiple\u001b[0m\u001b[0;34m=\u001b[0m\u001b[0;32mTrue\u001b[0m\u001b[0;34m)\u001b[0m\u001b[0;34m\u001b[0m\u001b[0;34m\u001b[0m\u001b[0m\n\u001b[0m\u001b[1;32m     73\u001b[0m   \u001b[0;31m# Mapping from original filename to filename as saved locally.\u001b[0m\u001b[0;34m\u001b[0m\u001b[0;34m\u001b[0m\u001b[0m\n\u001b[1;32m     74\u001b[0m   \u001b[0mlocal_filenames\u001b[0m \u001b[0;34m=\u001b[0m \u001b[0mdict\u001b[0m\u001b[0;34m(\u001b[0m\u001b[0;34m)\u001b[0m\u001b[0;34m\u001b[0m\u001b[0;34m\u001b[0m\u001b[0m\n",
            "\u001b[0;32m/usr/local/lib/python3.11/dist-packages/google/colab/files.py\u001b[0m in \u001b[0;36m_upload_files\u001b[0;34m(multiple)\u001b[0m\n\u001b[1;32m    169\u001b[0m   \u001b[0mfiles\u001b[0m \u001b[0;34m=\u001b[0m \u001b[0m_collections\u001b[0m\u001b[0;34m.\u001b[0m\u001b[0mdefaultdict\u001b[0m\u001b[0;34m(\u001b[0m\u001b[0mbytes\u001b[0m\u001b[0;34m)\u001b[0m\u001b[0;34m\u001b[0m\u001b[0;34m\u001b[0m\u001b[0m\n\u001b[1;32m    170\u001b[0m \u001b[0;34m\u001b[0m\u001b[0m\n\u001b[0;32m--> 171\u001b[0;31m   \u001b[0;32mwhile\u001b[0m \u001b[0mresult\u001b[0m\u001b[0;34m[\u001b[0m\u001b[0;34m'action'\u001b[0m\u001b[0;34m]\u001b[0m \u001b[0;34m!=\u001b[0m \u001b[0;34m'complete'\u001b[0m\u001b[0;34m:\u001b[0m\u001b[0;34m\u001b[0m\u001b[0;34m\u001b[0m\u001b[0m\n\u001b[0m\u001b[1;32m    172\u001b[0m     result = _output.eval_js(\n\u001b[1;32m    173\u001b[0m         'google.colab._files._uploadFilesContinue(\"{output_id}\")'.format(\n",
            "\u001b[0;31mTypeError\u001b[0m: 'NoneType' object is not subscriptable"
          ]
        }
      ],
      "source": [
        "### Answer Question 1 Here\n",
        "from google.colab import files\n",
        "uploaded = files.upload()\n",
        "\n",
        "df = pd.read_csv('dataset.csv')\n",
        "df.head()"
      ]
    },
    {
      "cell_type": "markdown",
      "metadata": {
        "id": "DMTcXLs7YarL"
      },
      "source": [
        "> ### 🔍**2. Menghapus Kolom yang Tidak Relevan**  \n",
        "- Tidak semua kolom dalam dataset mungkin relevan untuk analisis.  \n",
        "- Identifikasi dan hapus kolom yang tidak memiliki kontribusi signifikan.  "
      ]
    },
    {
      "cell_type": "code",
      "execution_count": null,
      "metadata": {
        "colab": {
          "background_save": true
        },
        "collapsed": true,
        "id": "5UWeFCIbYarM"
      },
      "outputs": [],
      "source": [
        "df.drop(columns=['id','CGPA'], inplace=True)"
      ]
    },
    {
      "cell_type": "markdown",
      "metadata": {
        "id": "tqNhq-YOYarM"
      },
      "source": [
        "> Kolom 'id', 'Name', dan 'City' dihapus dari dataset ini karena tidak memberikan kontribusi signifikan untuk prediksi. Sebaliknya, mereka hanya berfungsi sebagai identitas atau informasi demografis yang tidak mempengaruhi analisis. Kolom 'CGPA' dihapus karena tidak relevan untuk orang yang bekerja, sehingga tidak memberikan insight yang konsisten. Selain itu, kolom 'Degree', yang memiliki banyak nilai yang hilang, dihapus karena dapat mengganggu kualitas model tanpa memberikan keuntungan yang sebanding. Dataset menjadi lebih bersih setelah menghapus kolom-kolom ini. Ini juga menghasilkan dimensi data yang tidak perlu yang lebih kecil, dan model pembelajaran mesin menjadi lebih efisien dan akurat."
      ]
    },
    {
      "cell_type": "markdown",
      "metadata": {
        "id": "ELvJ8soJYarM"
      },
      "source": [
        "> ### 🔍**3. Menangani Missing Values (Data Hilang)**    \n",
        "- Tangani nilai yang hilang di kolom `Profession`, `Dietary Habits`, `Degree`, `Financial Stress`.  \n",
        "- Bagaimana cara terbaik menangani data yang hilang ini? (Hapus, isi dengan rata-rata/median/modus, atau metode lain?)  \n",
        "- Tangani nilai yang hilang di kolom `Academic Pressure`, `Work Pressure`, `Job Satisfaction`, `Study Satisfaction`\n",
        "\n",
        "- Hintt :\n",
        "- **Gabungkan `Academic Pressure` dan `Work Pressure`** menjadi satu kolom **`Pressure`**, dengan aturan:  \n",
        "    - Jika individu adalah **Student**, gunakan nilai dari `Academic Pressure`.  \n",
        "    - Jika individu adalah **Working Professional**, gunakan nilai dari `Work Pressure`.  \n",
        "  - **Gabungkan `Study Satisfaction` dan `Job Satisfaction`** menjadi satu kolom **`Satisfaction`**, dengan aturan:  \n",
        "    - Jika individu adalah **Student**, gunakan nilai dari `Study Satisfaction`.  \n",
        "    - Jika individu adalah **Working Professional**, gunakan nilai dari `Job Satisfaction`.\n",
        "\n",
        "- atau boleh juga nilai null di kolom `Academic Pressure`, `Work Pressure`, `Job Satisfaction`, `Study Satisfaction` nya diisi dengan 0"
      ]
    },
    {
      "cell_type": "code",
      "execution_count": null,
      "metadata": {
        "colab": {
          "background_save": true
        },
        "id": "gG_DFFoXYarN"
      },
      "outputs": [],
      "source": [
        "#Handle Missing value di kolom 'Profession', 'Dietary Habits', 'Degree', 'Financial Stress'\n",
        "\n",
        "df['Profession'].fillna(df['Profession'].mode()[0], inplace=True)\n",
        "df['Dietary Habits'].fillna(df['Dietary Habits'].mode()[0], inplace=True)\n",
        "df['Degree'].fillna(df['Degree'].mode()[0], inplace=True)\n",
        "df['Financial Stress'].fillna(df['Financial Stress'].mode()[0], inplace=True)\n",
        "\n",
        "# Menggabungkan Academic Pressure dan Work Pressure\n",
        "\n",
        "df['Pressure'] = df.apply(lambda x: x['Academic Pressure'] if x['Working Professional or Student'] == 'Student'\n",
        "                          else x['Work Pressure'], axis=1)\n",
        "\n",
        "# Menggabungkan Study Satisfaction dan Job Satisfaction\n",
        "\n",
        "df['Satisfaction'] = df.apply(lambda x: x['Study Satisfaction'] if x['Working Professional or Student'] == 'Student'\n",
        "                          else x['Job Satisfaction'], axis=1)\n",
        "\n",
        "df.drop(columns=['Academic Pressure', 'Work Pressure', 'Study Satisfaction', 'Job Satisfaction'], inplace=True)\n"
      ]
    },
    {
      "cell_type": "markdown",
      "metadata": {
        "id": "JRFjKCs-YarN"
      },
      "source": [
        "> Metode ini lebih cocok untuk data kategorikal daripada mengganti nilai kosong dengan angka 0 langsung.  Mengisi data yang hilang pada kolom seperti 'Profession', 'Dietary Habits', 'Degree', dan 'Financial Stress' dengan nilai yang paling sering muncul  lebih masuk akal karena kolom-kolom ini berisi kategori daripada angka.  Jika diisi dengan 0, bisa membuat data jadi membingungkan karena 0 tidak punya makna yang jelas dalam konteks ini.  Selain itu, dengan menggabungkan kolom 'Academic Pressure' dan 'Work Pressure' serta 'Study Satisfaction' dan 'Job Satisfaction', nilai yang dipilih berdasarkan apakah seseorang adalah mahasiswa atau karyawan lebih mencerminkan kondisi sebenarnya dibandingkan dengan menggantinya dengan nol, yang dapat menyebabkan model gagal memahami data.  Metode ini juga memastikan bahwa data tetap seimbang dan menghindari bias."
      ]
    },
    {
      "cell_type": "markdown",
      "metadata": {
        "id": "wbRNxnxMYarN"
      },
      "source": [
        "> ### 🔍**4. Feature Engineering**  \n",
        "-  Kolom `Sleep Duration` memiliki terlalu banyak unique value, kelompokkan kolom tersebut menjadi 3 kategori saja, **'Less than 7'**, **'7-8'**, **'More than 8'**\n",
        "  \n",
        "    "
      ]
    },
    {
      "cell_type": "code",
      "execution_count": null,
      "metadata": {
        "colab": {
          "background_save": true
        },
        "id": "UuYPJOFOYarN"
      },
      "outputs": [],
      "source": [
        "# Mengelompokkan Sleep Duration menjadi 3 kategori\n",
        "def categorize_sleep(duration):\n",
        "    if duration < 7:\n",
        "        return 'Less than 7'\n",
        "    elif 7 <= duration <= 8:\n",
        "        return '7-8'\n",
        "    else:\n",
        "        return 'More than 8'\n",
        "\n",
        "# Terapkan fungsi ke kolom Sleep Duration\n",
        "df['Sleep_Category'] = df['Sleep Duration'].apply(categorize_sleep)\n",
        "\n",
        "# Menampilkan hasil\n",
        "df[['Sleep Duration', 'Sleep_Category']].head()\n"
      ]
    },
    {
      "cell_type": "markdown",
      "metadata": {
        "id": "aVYTMJ37YarN"
      },
      "source": [
        "> ### 🔍**5. Encoding Data Kategorikal**  \n",
        "- Lakukan Encoding pada semua data categorical / yang memiliki tipe data object :  `'Name', 'Gender', 'City', 'Working Professional or Student',\n",
        "       'Profession', 'Sleep Duration', 'Dietary Habits', 'Degree',\n",
        "       'Have you ever had suicidal thoughts ?',\n",
        "       'Family History of Mental Illness'`  \n",
        "- Lakukan **encoding** menggunakan metode yang sesuai:  \n",
        "  - **One-hot encoding** atau **Label encoding**?  "
      ]
    },
    {
      "cell_type": "code",
      "execution_count": null,
      "metadata": {
        "colab": {
          "background_save": true
        },
        "id": "63Hi7QoKYarN"
      },
      "outputs": [],
      "source": [
        "# Answer Question 5 Here"
      ]
    },
    {
      "cell_type": "markdown",
      "metadata": {
        "id": "XQ_cpDemYarN"
      },
      "source": [
        "> Beri penjelasan pemilihan metode encoding yang digunakan disini :"
      ]
    },
    {
      "cell_type": "markdown",
      "metadata": {
        "id": "j1dLR1e2YarN"
      },
      "source": [
        "> ### 🔍**6. Train Test Split**  \n",
        "- Gunakan **train-test split** dari `scikit-learn` untuk membagi dataset dengan proporsi berikut:  \n",
        "  - **80% untuk training**  \n",
        "  - **20% untuk testing**  "
      ]
    },
    {
      "cell_type": "code",
      "execution_count": null,
      "metadata": {
        "colab": {
          "background_save": true
        },
        "id": "Tkg-v4d4YarN"
      },
      "outputs": [],
      "source": [
        "# Answer Question 6 Here"
      ]
    },
    {
      "cell_type": "markdown",
      "metadata": {
        "id": "TnMS2bbYYarO"
      },
      "source": [
        "> ### 🔍**7. Feature Scaling (Normalisasi atau Standardisasi)**  \n",
        "- Beberapa kolom numerik memiliki skala yang berbeda (misalnya `CGPA` dan `Work/Study Hours`).  \n",
        "- Lakukan **feature scaling** menggunakan metode yang sesuai:  \n",
        "  - **Min-Max Scaling** atau **Standardization (Z-score Scaling)**  \n",
        "\n",
        "notes : kolom `Depression` jangan di scale yaa ( karena dia dependent feature )"
      ]
    },
    {
      "cell_type": "code",
      "execution_count": null,
      "metadata": {
        "colab": {
          "background_save": true
        },
        "id": "CQtcmLGrYarO"
      },
      "outputs": [],
      "source": [
        "# Answer Question 7 Here"
      ]
    },
    {
      "cell_type": "markdown",
      "metadata": {
        "id": "4tSM6jcKYarO"
      },
      "source": [
        "> ### 🔍**8. Handling Target Variable Imbalance (`Depression`)**  \n",
        "- lakukan teknik **handling imbalance data**, seperti:  \n",
        "  - **Oversampling**: Menambah jumlah sampel pada kelas minoritas (misalnya dengan **SMOTE** atau Random Oversampling).  \n",
        "  - **Undersampling**: Mengurangi jumlah sampel pada kelas mayoritas untuk menyeimbangkan proporsi data.  "
      ]
    },
    {
      "cell_type": "code",
      "execution_count": null,
      "metadata": {
        "colab": {
          "background_save": true
        },
        "id": "mJn-enb_YarO"
      },
      "outputs": [],
      "source": [
        "#Answer Question 8 Here"
      ]
    },
    {
      "cell_type": "markdown",
      "metadata": {
        "id": "ooO1TKW0YarO"
      },
      "source": [
        "> ### 🔍**9. Eksplorasi Lebih Lanjut: Identifikasi Kebutuhan Preprocessing Tambahan**   \n",
        "  1. Identifikasi minimal **dua aspek preprocessing tambahan** yang diperlukan.  \n",
        "  2. Gunakan **analisis statistik dan visualisasi** untuk mendukung temuanmu.  \n",
        "  3. Lakukan preprocessing yang sesuai dan dokumentasikan setiap langkahnya.  \n",
        "  4. Jelaskan **mengapa preprocessing ini diperlukan** dan bagaimana dampaknya terhadap analisis atau model.  \n"
      ]
    },
    {
      "cell_type": "code",
      "execution_count": null,
      "metadata": {
        "colab": {
          "background_save": true
        },
        "id": "gSn4QQCiYarO"
      },
      "outputs": [],
      "source": [
        "# Answer Question 9 Here"
      ]
    },
    {
      "cell_type": "markdown",
      "metadata": {
        "id": "Ho5SfL4gYarO"
      },
      "source": [
        "> ### 🔍**10. Menyimpan Hasil**  \n",
        "   - Setelah seluruh preprocessing selesai, simpan dataset yang sudah bersih dalam format **CSV**.  \n"
      ]
    },
    {
      "cell_type": "code",
      "execution_count": null,
      "metadata": {
        "colab": {
          "background_save": true
        },
        "id": "hEiHy0f5YarO"
      },
      "outputs": [],
      "source": [
        "# Answer Question 10 Here"
      ]
    },
    {
      "cell_type": "markdown",
      "metadata": {
        "id": "MFvQcaW6YarO"
      },
      "source": [
        "> ### 🔍**11. Berikan Kesimpulan**  \n",
        "- Buat ringkasan **apa saja langkah preprocessing yang telah dilakukan**.  \n",
        "- Jelaskan **dampak preprocessing terhadap kualitas data**.  \n",
        "- Sebutkan **tantangan yang ditemukan selama proses ini dan bagaimana mengatasinya**.  "
      ]
    },
    {
      "cell_type": "markdown",
      "metadata": {
        "id": "VkHDb1_cYarO"
      },
      "source": [
        "Answer Question 11 Here"
      ]
    }
  ],
  "metadata": {
    "colab": {
      "provenance": [],
      "include_colab_link": true
    },
    "kernelspec": {
      "display_name": "Python 3",
      "language": "python",
      "name": "python3"
    },
    "language_info": {
      "codemirror_mode": {
        "name": "ipython",
        "version": 3
      },
      "file_extension": ".py",
      "mimetype": "text/x-python",
      "name": "python",
      "nbconvert_exporter": "python",
      "pygments_lexer": "ipython3",
      "version": "3.10.7"
    }
  },
  "nbformat": 4,
  "nbformat_minor": 0
}